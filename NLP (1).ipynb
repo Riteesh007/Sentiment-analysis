{
 "cells": [
  {
   "cell_type": "code",
   "execution_count": 1,
   "id": "ef021aba",
   "metadata": {},
   "outputs": [],
   "source": [
    "import pandas as pd"
   ]
  },
  {
   "cell_type": "code",
   "execution_count": 2,
   "id": "4987f932",
   "metadata": {},
   "outputs": [],
   "source": [
    "from sklearn.model_selection import train_test_split"
   ]
  },
  {
   "cell_type": "code",
   "execution_count": 3,
   "id": "d8687eef",
   "metadata": {},
   "outputs": [],
   "source": [
    "from sklearn.feature_extraction.text import CountVectorizer"
   ]
  },
  {
   "cell_type": "code",
   "execution_count": 4,
   "id": "2bc1f7b5",
   "metadata": {},
   "outputs": [],
   "source": [
    "from sklearn.naive_bayes import MultinomialNB"
   ]
  },
  {
   "cell_type": "code",
   "execution_count": 5,
   "id": "cdb99f19",
   "metadata": {},
   "outputs": [],
   "source": [
    "from sklearn.metrics import accuracy_score, classification_report"
   ]
  },
  {
   "cell_type": "code",
   "execution_count": 6,
   "id": "d7f06abe",
   "metadata": {},
   "outputs": [],
   "source": [
    "def load_dataset(file_path):\n",
    "    # Load the dataset\n",
    "    df = pd.read_csv(file_path)\n",
    "    return df"
   ]
  },
  {
   "cell_type": "code",
   "execution_count": 7,
   "id": "3173c520",
   "metadata": {},
   "outputs": [],
   "source": [
    "def preprocess_data(text):\n",
    "    # Check if the value is NaN\n",
    "    if pd.isna(text):\n",
    "        return \"\"\n",
    "\n",
    "    # Implement data preprocessing steps here\n",
    "    # For simplicity, let's assume lowercase conversion and removal of punctuation\n",
    "    processed_text = str(text).lower().replace('[^\\w\\s]', '')\n",
    "    return processed_text"
   ]
  },
  {
   "cell_type": "code",
   "execution_count": 8,
   "id": "653dd8a3",
   "metadata": {},
   "outputs": [],
   "source": [
    "def create_bow_representation(text_data):\n",
    "    # Create a bag-of-words representation using CountVectorizer\n",
    "    vectorizer = CountVectorizer()\n",
    "    X = vectorizer.fit_transform(text_data)\n",
    "    return X\n"
   ]
  },
  {
   "cell_type": "code",
   "execution_count": 9,
   "id": "398364a9",
   "metadata": {},
   "outputs": [],
   "source": [
    "def build_classifier(X_train, y_train):\n",
    "    # Build a Naive Bayes classifier\n",
    "    classifier = MultinomialNB()\n",
    "    classifier.fit(X_train, y_train)\n",
    "    return classifier\n"
   ]
  },
  {
   "cell_type": "code",
   "execution_count": 10,
   "id": "d50a45df",
   "metadata": {},
   "outputs": [],
   "source": [
    "def predict_reviews(classifier, X_test):\n",
    "    # Predict ratings for unseen reviews\n",
    "    predictions = classifier.predict(X_test)\n",
    "    return predictions\n"
   ]
  },
  {
   "cell_type": "code",
   "execution_count": 11,
   "id": "bb90ae22",
   "metadata": {},
   "outputs": [],
   "source": [
    "def evaluate_model(y_true, y_pred):\n",
    "    # Evaluate the model using accuracy and classification report\n",
    "    accuracy = accuracy_score(y_true, y_pred)\n",
    "    report = classification_report(y_true, y_pred, zero_division=1)  # Adjusted for zero division\n",
    "    return accuracy, report"
   ]
  },
  {
   "cell_type": "code",
   "execution_count": 12,
   "id": "6e3d78c8",
   "metadata": {},
   "outputs": [
    {
     "name": "stdout",
     "output_type": "stream",
     "text": [
      "Accuracy: 0.618\n",
      "Classification Report:\n",
      "               precision    recall  f1-score   support\n",
      "\n",
      "           1       0.70      0.86      0.77       333\n",
      "           2       0.67      0.01      0.03       136\n",
      "         2.5       1.00      0.00      0.00         6\n",
      "           3       0.44      0.23      0.30       245\n",
      "         3.5       1.00      0.00      0.00         7\n",
      "           4       0.45      0.59      0.51       488\n",
      "         4.5       1.00      0.00      0.00         8\n",
      "           5       0.74      0.79      0.76       768\n",
      "        Like       1.00      0.00      0.00         1\n",
      "         nan       1.00      0.00      0.00         8\n",
      "\n",
      "    accuracy                           0.62      2000\n",
      "   macro avg       0.80      0.25      0.24      2000\n",
      "weighted avg       0.62      0.62      0.58      2000\n",
      "\n"
     ]
    }
   ],
   "source": [
    "def main():\n",
    "    # Step 1: Load the dataset\n",
    "    dataset = load_dataset(r\"C:\\Users\\user\\Downloads\\Restaurant reviews.csv\")\n",
    "\n",
    "    # Update the column name for text data\n",
    "    text_column_name = 'Review'\n",
    "    dataset[text_column_name] = dataset[text_column_name].apply(preprocess_data)\n",
    "\n",
    "    # Step 2: Data Preprocessing\n",
    "    X = create_bow_representation(dataset[text_column_name])\n",
    "    y = dataset['Rating'].astype(str)  # Assuming 'Rating' is your target variable\n",
    "\n",
    "    # Step 3: Split the data into training and testing sets\n",
    "    X_train, X_test, y_train, y_test = train_test_split(X, y, test_size=0.2, random_state=42)\n",
    "\n",
    "    # Step 4: Build and train the classifier\n",
    "    classifier = build_classifier(X_train, y_train)\n",
    "\n",
    "    # Step 5: Predict on unseen reviews\n",
    "    predictions = predict_reviews(classifier, X_test)\n",
    "\n",
    "    # Step 6: Evaluate the model\n",
    "    accuracy, report = evaluate_model(y_test, predictions)\n",
    "    print(f\"Accuracy: {accuracy}\")\n",
    "    print(\"Classification Report:\\n\", report)\n",
    "\n",
    "if __name__ == \"__main__\":\n",
    "    main()"
   ]
  },
  {
   "cell_type": "code",
   "execution_count": null,
   "id": "934ab8ab",
   "metadata": {},
   "outputs": [],
   "source": []
  },
  {
   "cell_type": "code",
   "execution_count": null,
   "id": "90ddad98",
   "metadata": {},
   "outputs": [],
   "source": []
  }
 ],
 "metadata": {
  "kernelspec": {
   "display_name": "Python 3 (ipykernel)",
   "language": "python",
   "name": "python3"
  },
  "language_info": {
   "codemirror_mode": {
    "name": "ipython",
    "version": 3
   },
   "file_extension": ".py",
   "mimetype": "text/x-python",
   "name": "python",
   "nbconvert_exporter": "python",
   "pygments_lexer": "ipython3",
   "version": "3.11.5"
  }
 },
 "nbformat": 4,
 "nbformat_minor": 5
}
